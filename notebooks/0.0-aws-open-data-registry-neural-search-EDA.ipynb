{
 "cells": [
  {
   "cell_type": "code",
   "execution_count": 1,
   "id": "224d61b5",
   "metadata": {},
   "outputs": [
    {
     "data": {
      "text/html": [
       "<style>.container { width:100% !important; }</style>"
      ],
      "text/plain": [
       "<IPython.core.display.HTML object>"
      ]
     },
     "metadata": {},
     "output_type": "display_data"
    }
   ],
   "source": [
    "from IPython.display import display, HTML\n",
    "display(HTML(\"<style>.container { width:100% !important; }</style>\"))"
   ]
  },
  {
   "cell_type": "code",
   "execution_count": 28,
   "id": "f1c20300",
   "metadata": {},
   "outputs": [],
   "source": [
    "import os\n",
    "from pathlib import Path\n",
    "from itertools import chain, starmap\n",
    "import json\n",
    "import yaml\n",
    "import pandas as pd\n",
    "\n",
    "# Pandas display options\n",
    "pd.set_option('display.max_rows', None)\n",
    "pd.set_option('display.max_columns', None)\n",
    "pd.set_option('display.max_colwidth', None)\n",
    "pd.set_option('display.width', None)"
   ]
  },
  {
   "cell_type": "code",
   "execution_count": 21,
   "id": "dcaea53b",
   "metadata": {},
   "outputs": [],
   "source": [
    "def flatten_json(dictionary, sep='.'):\n",
    "    \"\"\"Flatten a nested json file. For a list of dictionaries, use this\n",
    "    inside a for loop before converting to pandas DataFrame.\"\"\"\n",
    "\n",
    "    def unpack(parent_key, parent_value):\n",
    "        \"\"\"Unpack one level of nesting in json file\"\"\"\n",
    "        # Unpack one level only!!!\n",
    "        \n",
    "        if isinstance(parent_value, dict):\n",
    "            for key, value in parent_value.items():\n",
    "                temp1 = parent_key + sep + key\n",
    "                yield temp1, value\n",
    "        elif isinstance(parent_value, list):\n",
    "            i = 0 \n",
    "            for value in parent_value:\n",
    "                temp2 = parent_key + sep +str(i) \n",
    "                i += 1\n",
    "                yield temp2, value\n",
    "        else:\n",
    "            yield parent_key, parent_value    \n",
    "\n",
    "\n",
    "    # Keep iterating until the termination condition is satisfied\n",
    "    while True:\n",
    "        # Keep unpacking the json file until all values are atomic elements (not dictionary or list)\n",
    "        dictionary = dict(chain.from_iterable(starmap(unpack, dictionary.items())))\n",
    "        # Terminate condition: not any value in the json file is dictionary or list\n",
    "        if not any(isinstance(value, dict) for value in dictionary.values()) and \\\n",
    "           not any(isinstance(value, list) for value in dictionary.values()):\n",
    "            break\n",
    "\n",
    "    return dictionary"
   ]
  },
  {
   "cell_type": "code",
   "execution_count": 22,
   "id": "4982ac14",
   "metadata": {},
   "outputs": [],
   "source": [
    "data_dir = Path('../___data/awslabs/open-data-registry/datasets')"
   ]
  },
  {
   "cell_type": "code",
   "execution_count": 30,
   "id": "c4919b5e",
   "metadata": {},
   "outputs": [],
   "source": [
    "yaml_files = data_dir.glob('*.yaml')\n",
    "\n",
    "datasets = []\n",
    "for file in yaml_files:\n",
    "    dataset = yaml.safe_load(file.read_text())\n",
    "    # dataset = flatten_json(dataset, sep=\"_\")\n",
    "    datasets.append(dataset)\n",
    "\n"
   ]
  },
  {
   "cell_type": "code",
   "execution_count": 31,
   "id": "fde233f2",
   "metadata": {},
   "outputs": [],
   "source": [
    "df = pd.DataFrame(datasets)"
   ]
  },
  {
   "cell_type": "code",
   "execution_count": 48,
   "id": "df6ff616",
   "metadata": {},
   "outputs": [
    {
     "data": {
      "text/html": [
       "<div>\n",
       "<style scoped>\n",
       "    .dataframe tbody tr th:only-of-type {\n",
       "        vertical-align: middle;\n",
       "    }\n",
       "\n",
       "    .dataframe tbody tr th {\n",
       "        vertical-align: top;\n",
       "    }\n",
       "\n",
       "    .dataframe thead th {\n",
       "        text-align: right;\n",
       "    }\n",
       "</style>\n",
       "<table border=\"1\" class=\"dataframe\">\n",
       "  <thead>\n",
       "    <tr style=\"text-align: right;\">\n",
       "      <th></th>\n",
       "      <th>Name</th>\n",
       "      <th>Description</th>\n",
       "      <th>Documentation</th>\n",
       "      <th>Contact</th>\n",
       "      <th>UpdateFrequency</th>\n",
       "      <th>ManagedBy</th>\n",
       "      <th>Collabs</th>\n",
       "      <th>Tags</th>\n",
       "      <th>License</th>\n",
       "      <th>Resources</th>\n",
       "      <th>DataAtWork</th>\n",
       "      <th>Deprecated</th>\n",
       "      <th>DeprecatedNotice</th>\n",
       "      <th>Citation</th>\n",
       "    </tr>\n",
       "  </thead>\n",
       "  <tbody>\n",
       "    <tr>\n",
       "      <th>0</th>\n",
       "      <td>Open City Model (OCM)</td>\n",
       "      <td>Open City Model is an initiative to provide cityGML data for all the buildings in the United States.\\nBy using other open datasets in conjunction with our own code and algorithms it is our goal to provide 3D geometries for every US building.\\n</td>\n",
       "      <td>https://github.com/opencitymodel/opencitymodel</td>\n",
       "      <td>https://github.com/opencitymodel/opencitymodel#contact</td>\n",
       "      <td>Quarterly</td>\n",
       "      <td>BuildZero</td>\n",
       "      <td>{'ASDI': {'Tags': ['infrastructure']}}</td>\n",
       "      <td>[aws-pds, events, cities, geospatial]</td>\n",
       "      <td>https://github.com/opencitymodel/opencitymodel#license</td>\n",
       "      <td>[{'Description': 'Project data files', 'ARN': 'arn:aws:s3:::opencitymodel', 'Region': 'us-east-1', 'Type': 'S3 Bucket'}]</td>\n",
       "      <td>{'Tutorials': [{'Title': 'Using Open City Model with the 3dCityDB', 'URL': 'https://github.com/opencitymodel/opencitymodel/blob/master/examples/3dCityDB-to-GoogleEarth.md', 'AuthorName': 'Allen Gilliland', 'AuthorURL': 'https://github.com/agilliland'}, {'Title': 'Running queries on Open City Model using AWS Athena', 'URL': 'https://github.com/opencitymodel/opencitymodel/blob/master/examples/Query-OpenCityModel-using-AWS-Athena.md', 'AuthorName': 'Allen Gilliland', 'AuthorURL': 'https://github.com/agilliland', 'Services': ['Athena']}, {'Title': 'Investigating environmental characteristics of US cities using publicly available ASDI datasets', 'URL': 'https://github.com/aws-samples/aws-asdi-cities-smsl-notebook', 'NotebookURL': 'https://github.com/aws-samples/aws-asdi-cities-smsl-notebook/blob/main/ASDI_Cities_Demo.ipynb', 'AuthorName': 'Darren Ko', 'Services': ['SageMaker Studio Lab']}], 'Tools &amp; Applications': None, 'Publications': None}</td>\n",
       "      <td>NaN</td>\n",
       "      <td>NaN</td>\n",
       "      <td>NaN</td>\n",
       "    </tr>\n",
       "  </tbody>\n",
       "</table>\n",
       "</div>"
      ],
      "text/plain": [
       "                    Name  \\\n",
       "0  Open City Model (OCM)   \n",
       "\n",
       "                                                                                                                                                                                                                                           Description  \\\n",
       "0  Open City Model is an initiative to provide cityGML data for all the buildings in the United States.\\nBy using other open datasets in conjunction with our own code and algorithms it is our goal to provide 3D geometries for every US building.\\n   \n",
       "\n",
       "                                    Documentation  \\\n",
       "0  https://github.com/opencitymodel/opencitymodel   \n",
       "\n",
       "                                                  Contact UpdateFrequency  \\\n",
       "0  https://github.com/opencitymodel/opencitymodel#contact       Quarterly   \n",
       "\n",
       "   ManagedBy                                 Collabs  \\\n",
       "0  BuildZero  {'ASDI': {'Tags': ['infrastructure']}}   \n",
       "\n",
       "                                    Tags  \\\n",
       "0  [aws-pds, events, cities, geospatial]   \n",
       "\n",
       "                                                  License  \\\n",
       "0  https://github.com/opencitymodel/opencitymodel#license   \n",
       "\n",
       "                                                                                                                  Resources  \\\n",
       "0  [{'Description': 'Project data files', 'ARN': 'arn:aws:s3:::opencitymodel', 'Region': 'us-east-1', 'Type': 'S3 Bucket'}]   \n",
       "\n",
       "                                                                                                                                                                                                                                                                                                                                                                                                                                                                                                                                                                                                                                                                                                                                                                                                                                                                                                                                                                               DataAtWork  \\\n",
       "0  {'Tutorials': [{'Title': 'Using Open City Model with the 3dCityDB', 'URL': 'https://github.com/opencitymodel/opencitymodel/blob/master/examples/3dCityDB-to-GoogleEarth.md', 'AuthorName': 'Allen Gilliland', 'AuthorURL': 'https://github.com/agilliland'}, {'Title': 'Running queries on Open City Model using AWS Athena', 'URL': 'https://github.com/opencitymodel/opencitymodel/blob/master/examples/Query-OpenCityModel-using-AWS-Athena.md', 'AuthorName': 'Allen Gilliland', 'AuthorURL': 'https://github.com/agilliland', 'Services': ['Athena']}, {'Title': 'Investigating environmental characteristics of US cities using publicly available ASDI datasets', 'URL': 'https://github.com/aws-samples/aws-asdi-cities-smsl-notebook', 'NotebookURL': 'https://github.com/aws-samples/aws-asdi-cities-smsl-notebook/blob/main/ASDI_Cities_Demo.ipynb', 'AuthorName': 'Darren Ko', 'Services': ['SageMaker Studio Lab']}], 'Tools & Applications': None, 'Publications': None}   \n",
       "\n",
       "  Deprecated DeprecatedNotice Citation  \n",
       "0        NaN              NaN      NaN  "
      ]
     },
     "execution_count": 48,
     "metadata": {},
     "output_type": "execute_result"
    }
   ],
   "source": [
    "df.head(1)"
   ]
  },
  {
   "cell_type": "code",
   "execution_count": 47,
   "id": "63164029",
   "metadata": {},
   "outputs": [
    {
     "data": {
      "text/plain": [
       "{'Publications', 'Tools & Applications', 'Tutorials'}"
      ]
     },
     "execution_count": 47,
     "metadata": {},
     "output_type": "execute_result"
    }
   ],
   "source": [
    "# get unique entries in the DataAtWork column\n",
    "data_at_work = df[df[\"DataAtWork\"].isnull()==0][\"DataAtWork\"].to_list()\n",
    "set(chain.from_iterable([ list(item.keys()) for item in data_at_work ]))"
   ]
  },
  {
   "cell_type": "code",
   "execution_count": 51,
   "id": "ded870b6",
   "metadata": {},
   "outputs": [
    {
     "data": {
      "text/plain": [
       "{'Dataset': ['name',\n",
       "  'description',\n",
       "  'documentation',\n",
       "  'managedBy[Publisher]',\n",
       "  'updateFrequency',\n",
       "  'hasTag[Tag]',\n",
       "  'license',\n",
       "  'hasResource[Resource]',\n",
       "  'hasTutorial[Tutorial]',\n",
       "  'hasPublication[Publication]',\n",
       "  'hasToolOrApplication[ToolOrApplication]'],\n",
       " 'Publisher': ['name', 'contact'],\n",
       " 'Tag': ['name'],\n",
       " 'Resource': ['description', 'arn', 'region', 'type'],\n",
       " 'Tutorial': [''],\n",
       " 'Publication': [''],\n",
       " 'ToolOrApplication': ['']}"
      ]
     },
     "execution_count": 51,
     "metadata": {},
     "output_type": "execute_result"
    }
   ],
   "source": [
    "# weaviate schema draft\n",
    "{\n",
    "    # class\n",
    "    \"Dataset\": [\n",
    "        # properties\n",
    "        \"name\",\n",
    "        \"description\",\n",
    "        \"documentation\",\n",
    "        \"managedBy[Publisher]\",\n",
    "        \"updateFrequency\",\n",
    "        \"hasTag[Tag]\",\n",
    "        \"license\",\n",
    "        \"hasResource[Resource]\",\n",
    "        \"hasTutorial[Tutorial]\",\n",
    "        \"hasPublication[Publication]\",\n",
    "        \"hasToolOrApplication[ToolOrApplication]\",\n",
    "    ],\n",
    "    \"Publisher\": [\n",
    "        \"name\",\n",
    "        \"contact\"        \n",
    "    ],\n",
    "    \"Tag\": [\n",
    "        \"name\"\n",
    "    ],\n",
    "    \"Resource\": [\n",
    "        \"description\",\n",
    "        \"arn\",\n",
    "        \"region\",\n",
    "        \"type\"\n",
    "    ],\n",
    "    \"Tutorial\": [\n",
    "        \"title\",\n",
    "        \"url\",\n",
    "        \"authorName\",\n",
    "        \"authorUrl\",\n",
    "        \"services\"\n",
    "    ],\n",
    "    \"Publication\": [\n",
    "        \"url\",\n",
    "        \"authorName\",\n",
    "        \"authorUrl\"\n",
    "    ],\n",
    "    \"ToolOrApplication\": [\n",
    "        \"url\",\n",
    "        \"authorName\",\n",
    "        \"authorUrl\"\n",
    "    ]\n",
    "}"
   ]
  },
  {
   "cell_type": "code",
   "execution_count": 72,
   "id": "7347ad52",
   "metadata": {},
   "outputs": [],
   "source": [
    "dataset_class_df = df[[\"Name\", \"Description\"]]\n",
    "dataset_class_df.columns = [\"name\", \"description\"]\n",
    "dataset_class = dataset_class_df.to_dict(orient=\"records\")"
   ]
  },
  {
   "cell_type": "code",
   "execution_count": 73,
   "id": "496e9e7a",
   "metadata": {},
   "outputs": [],
   "source": [
    "path = \"../___data/classes/dataset-class.json\"\n",
    "with open(path, \"w\") as f:\n",
    "    json.dump(dataset_class, f, indent=4)"
   ]
  },
  {
   "cell_type": "code",
   "execution_count": null,
   "id": "4f3cd103",
   "metadata": {},
   "outputs": [],
   "source": []
  }
 ],
 "metadata": {
  "kernelspec": {
   "display_name": "Python 3.10.8 ('aws-open-data-registry-neural-search-4l16sXU8-py3.10')",
   "language": "python",
   "name": "python3"
  },
  "language_info": {
   "codemirror_mode": {
    "name": "ipython",
    "version": 3
   },
   "file_extension": ".py",
   "mimetype": "text/x-python",
   "name": "python",
   "nbconvert_exporter": "python",
   "pygments_lexer": "ipython3",
   "version": "3.10.8"
  },
  "vscode": {
   "interpreter": {
    "hash": "ddda627f0aa5a2016e69119ee9732a94264c055a92310a2df2f2b6f4c7282b9d"
   }
  }
 },
 "nbformat": 4,
 "nbformat_minor": 5
}
